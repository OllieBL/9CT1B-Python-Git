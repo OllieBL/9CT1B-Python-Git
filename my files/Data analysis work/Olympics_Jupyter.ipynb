{
 "cells": [
  {
   "attachments": {},
   "cell_type": "markdown",
   "metadata": {},
   "source": [
    "# Identifying and Defining\n",
    "## Defining Purpose \n",
    "Data: a collection of athlete data for the olympics for the last 120 years\\\n",
    "Goal: to determine the different qualities of a person that makes them more successful in the olympics\\\n",
    "Source: https://www.kaggle.com/datasets/heesoo37/120-years-of-olympic-history-athletes-and-results\\\n",
    "Access: the data is publicaly accessible on the Kaggle site\\\n",
    "Access Method: i will use it as a csv\n",
    "## Functional Requirements\n",
    "### Data loading\n",
    "__Description__ : Load the data to for the other processes\\\n",
    "__Input__: A csv file\\\n",
    "__Outputs__: Pandas dataframe\n",
    "### Data cleaning\n",
    "__Description__ : Cleans the data to be able to be easily used by other functions\\\n",
    "__Input__: Pandas dataframe\\\n",
    "__Outputs__: An easily used pandas dataframe\n",
    "### Data analysis\n",
    "__Description__ : Converts the data into statistics and other forms of information about the data (aim to find trend for athletes)\\\n",
    "__Input__: A clean pandas dataframe about the data\\\n",
    "__Outputs__: New information about the data\n",
    "### Data visualisation\n",
    "__Description__ : Make certain charts to convey the meaning of the data more easily, like showing the which features are more successful for athletes\\\n",
    "__Input__: A clean pandas dataframe\\\n",
    "__Outputs__: A chart that conveys the data, probably using matplotlib\n",
    "### Data reporting\n",
    "__Description__ : Saves the new data that has been produced in a new location/Outputs the data to the user\\\n",
    "__Input__: Statistics about the data\\\n",
    "__Outputs__: A new file is created for the new dataset, or information has been outputted to the user\n",
    "## Use Cases\n",
    "### Data loading\n",
    "__Actor__: User\\\n",
    "__Goal__: To load the csv file into the system\\\n",
    "__Preconditions__: A readied csv file\\\n",
    "__Main Flow__: \n",
    "1. User places the file into the system \n",
    "2. System checks file type\n",
    "3. System loads file into a dataframe\n",
    "\n",
    "__Postconditions__: Dataset is converted into a dataframe in the system to be used for data analysis\n",
    "### Data cleaning\n",
    "__Actor__: Data loading system completed\\\n",
    "__Goal__: To make the dataframe clean from any unhelpful data and makes the data easy to use\\\n",
    "__Preconditions__: A loaded dataframe\\\n",
    "__Main Flow__: "
   ]
  }
 ],
 "metadata": {
  "language_info": {
   "name": "python"
  },
  "orig_nbformat": 4
 },
 "nbformat": 4,
 "nbformat_minor": 2
}
