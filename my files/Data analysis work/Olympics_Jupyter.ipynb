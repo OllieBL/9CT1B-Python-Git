{
 "cells": [
  {
   "attachments": {},
   "cell_type": "markdown",
   "metadata": {},
   "source": [
    "# Identifying and Defining\n",
    "## Defining Purpose \n",
    "Data: a collection of athlete data for the olympics for the last 120 years\\\n",
    "Goal: to determine the different qualities of a person that makes them more successful in the olympics\\\n",
    "Source: https://www.kaggle.com/datasets/heesoo37/120-years-of-olympic-history-athletes-and-results\\\n",
    "Access: the data is publicaly accessible on the Kaggle site\\\n",
    "Access Method: i will use it as a csv\n",
    "## Functional Requirements\n",
    "### Data loading\n",
    "Description: Load the data to for the other processes\\\n",
    "Inputs: A csv file\\\n",
    "Outputs: A loaded csv file (pandas dataFrame)\n",
    "### Data cleaning\n",
    "Description: Cleans the data to be able to be easily used by other functions\\\n",
    "Inputs: A loaded csv file\\pandas dataFrame\\\n",
    "Outputs: An easily used csv file\\pandas dataframe\n",
    "###"
   ]
  }
 ],
 "metadata": {
  "language_info": {
   "name": "python"
  },
  "orig_nbformat": 4
 },
 "nbformat": 4,
 "nbformat_minor": 2
}
