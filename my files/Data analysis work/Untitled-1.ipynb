{
 "cells": [
  {
   "attachments": {},
   "cell_type": "markdown",
   "metadata": {},
   "source": [
    "Data: a collection of athlete data for the olympics for the last 100 years\n",
    "Goal: to determine the different qualities of a person that makes them more successful in the olympics"
   ]
  }
 ],
 "metadata": {
  "language_info": {
   "name": "python"
  },
  "orig_nbformat": 4
 },
 "nbformat": 4,
 "nbformat_minor": 2
}
